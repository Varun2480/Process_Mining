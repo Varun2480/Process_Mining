{
 "cells": [
  {
   "cell_type": "code",
   "execution_count": null,
   "id": "f5a1adb5",
   "metadata": {},
   "outputs": [],
   "source": [
    "import os\n",
    "import numpy as np\n",
    "import pandas as pd\n",
    "from vertexai.language_models import TextEmbeddingModel,TextEmbedding\n",
    "from sklearn.cluster import KMeans\n",
    "import psycopg2\n",
    "# from psycopg2.extras import register_vector\n",
    "from pgvector.psycopg2 import register_vector\n",
    "\n",
    "import json # For JSONB column"
   ]
  },
  {
   "cell_type": "code",
   "execution_count": 15,
   "id": "12bbed84",
   "metadata": {},
   "outputs": [],
   "source": [
    "# Load environment variables from .env file\n",
    "\n",
    "from dotenv import load_dotenv # Import load_dotenv\n",
    "\n",
    "load_dotenv(override=True)\n",
    "\n",
    "# --- Configuration (loaded from environment variables) ---\n",
    "PROJECT_ID = os.getenv(\"GCP_PROJECT_ID\")\n",
    "REGION = os.getenv(\"GCP_REGION\")\n",
    "\n",
    "DB_HOST = os.getenv(\"DB_HOST\") \n",
    "DB_NAME = os.getenv(\"DB_NAME\")\n",
    "DB_USER = os.getenv(\"DB_USER\")\n",
    "DB_PASSWORD = os.getenv(\"DB_PASSWORD\")\n",
    "DB_PORT = os.getenv(\"DB_PORT\", \"5432\") \n",
    "\n",
    "EMBEDDING_MODEL_NAME = os.getenv(\"EMBEDDING_MODEL_NAME\")\n",
    "EMBEDDING_DIMENSION = int(os.getenv(\"EMBEDDING_DIMENSION\")) \n",
    "K_CLUSTERS = int(os.getenv(\"K_CLUSTERS\")) \n",
    "\n",
    "INCIDENTS_CSV_PATH = os.getenv(\"INCIDENTS_CSV_PATH\")\n",
    "# The GOOGLE_APPLICATION_CREDENTIALS path is automatically set by load_dotenv()\n",
    "# if it's present in the .env file. The client library will pick it up.\n"
   ]
  },
  {
   "cell_type": "code",
   "execution_count": 16,
   "id": "3fc8e271",
   "metadata": {},
   "outputs": [
    {
     "name": "stdout",
     "output_type": "stream",
     "text": [
      "PROJECT_ID : poetic-analog-460707-i9\n",
      "REGION : us-central1\n",
      "DB_HOST : 34.66.49.57\n",
      "DB_NAME : incidents_db\n",
      "DB_USER : postgres\n",
      "DB_PASSWORD : postgres\n",
      "INCIDENTS_CSV_PATH : G:/POC's/Process Mining/Process_Mining/datasets/mock_incidents_10.csv\n"
     ]
    }
   ],
   "source": [
    "# --- Validation (Optional but Recommended) ---\n",
    "# Check if critical environment variables are loaded\n",
    "# Note: GOOGLE_APPLICATION_CREDENTIALS is set as an env var by load_dotenv, so it can be checked here.\n",
    "if not all([PROJECT_ID, REGION, DB_HOST, DB_NAME, DB_USER, DB_PASSWORD, os.getenv(\"GOOGLE_APPLICATION_CREDENTIALS\")]):\n",
    "    print(\"Error: One or more critical environment variables are not set.\")\n",
    "    print(\"Please check your .env file and ensure all required variables are present.\")\n",
    "    exit(1)\n",
    "\n",
    "print(f\"PROJECT_ID : {PROJECT_ID}\")\n",
    "print(f\"REGION : {REGION}\")\n",
    "print(f\"DB_HOST : {DB_HOST}\")\n",
    "print(f\"DB_NAME : {DB_NAME}\")\n",
    "print(f\"DB_USER : {DB_USER}\")\n",
    "print(f\"DB_PASSWORD : {DB_PASSWORD}\")\n",
    "print(f\"INCIDENTS_CSV_PATH : {INCIDENTS_CSV_PATH}\")"
   ]
  },
  {
   "cell_type": "code",
   "execution_count": 17,
   "id": "9f0de7ae",
   "metadata": {},
   "outputs": [
    {
     "name": "stdout",
     "output_type": "stream",
     "text": [
      "pgvector type registered successfully with psycopg2.\n"
     ]
    }
   ],
   "source": [
    "# Establish a connection *before* registering the vector type\n",
    "# This connection will be used *only* for type registration.\n",
    "# The main data loading function will establish its own connection.\n",
    "conn_for_type_reg = None\n",
    "try:\n",
    "    conn_for_type_reg = psycopg2.connect(\n",
    "        host=DB_HOST,\n",
    "        database=DB_NAME,\n",
    "        user=DB_USER,\n",
    "        password=DB_PASSWORD,\n",
    "        port=DB_PORT\n",
    "    )\n",
    "    # Register vector type for psycopg2 using the newly opened connection\n",
    "    register_vector(conn_for_type_reg) \n",
    "    print(\"pgvector type registered successfully with psycopg2.\")\n",
    "except psycopg2.Error as e:\n",
    "    print(f\"Database connection error during type registration: {e}\")\n",
    "    print(\"Please check your database connection details in the .env file.\")\n",
    "    exit(1)\n",
    "except Exception as e:\n",
    "    print(f\"Error registering pgvector type: {e}\")\n",
    "    print(\"Please ensure the 'pgvector' Python library is installed (pip install pgvector).\")\n",
    "    exit(1)\n",
    "finally:\n",
    "    if conn_for_type_reg:\n",
    "        conn_for_type_reg.close() # Close the connection used for type registration\n"
   ]
  },
  {
   "cell_type": "code",
   "execution_count": null,
   "id": "f36586ec",
   "metadata": {},
   "outputs": [
    {
     "name": "stdout",
     "output_type": "stream",
     "text": [
      "Initialized Vertex AI Embedding Model: text-embedding-004\n"
     ]
    }
   ],
   "source": [
    "# --- Initialize Vertex AI Embedding Model ---\n",
    "\n",
    "try:\n",
    "    embedding_model = TextEmbeddingModel.from_pretrained(EMBEDDING_MODEL_NAME)\n",
    "    print(f\"Initialized Vertex AI Embedding Model: {EMBEDDING_MODEL_NAME}\")\n",
    "except Exception as e:\n",
    "    print(f\"Error initializing embedding model: {e}\")\n",
    "    print(\"Please ensure your Google Cloud credentials are set up correctly (e.g., GOOGLE_APPLICATION_CREDENTIALS in .env).\")\n",
    "    exit()"
   ]
  },
  {
   "cell_type": "code",
   "execution_count": 19,
   "id": "1b6c6226",
   "metadata": {},
   "outputs": [],
   "source": [
    "def get_gecko_embedding(texts: str | list[str]) -> list[float] | list[list[float]]:\n",
    "    \"\"\"\n",
    "    Generates embeddings for the given text(s) using Vertex AI Gecko model.\n",
    "    Handles both single string and a list of strings for batch processing.\n",
    "\n",
    "    Args:\n",
    "        texts: A single string or a list of strings to embed.\n",
    "\n",
    "    Returns:\n",
    "        A list of floats if a single string was provided.\n",
    "        A list of lists of floats if a list of strings was provided.\n",
    "        Returns a zero vector or list of zero vectors on error.\n",
    "    \"\"\"\n",
    "    is_single_text = isinstance(texts, str)\n",
    "    texts_to_embed = [texts] if is_single_text else texts\n",
    "\n",
    "    if not texts_to_embed: # Handle empty list case\n",
    "        return [] if not is_single_text else [0.0] * EMBEDDING_DIMENSION\n",
    "\n",
    "    # Vertex AI's text-embedding-004 has a batch size limit (e.g., 250 requests per call).\n",
    "    # The client library often handles chunking internally, but for very large datasets,\n",
    "    # you might manually chunk it if you encounter issues.\n",
    "    \n",
    "    # Define a default zero vector for errors (matching embedding dimension)\n",
    "    zero_vector = [0.0] * EMBEDDING_DIMENSION\n",
    "\n",
    "    try:\n",
    "        batch_embeddings_response: list[TextEmbedding] = embedding_model.get_embeddings(texts_to_embed)\n",
    "        \n",
    "        results = [emb.values for emb in batch_embeddings_response]\n",
    "        \n",
    "        if is_single_text:\n",
    "            return results[0] # Return single list if single text was input\n",
    "        else:\n",
    "            return results # Return list of lists if list of texts was input\n",
    "            \n",
    "    except Exception as e:\n",
    "        print(f\"Error generating embeddings for text(s): '{texts_to_embed[0][:50]}...'. Error: {e}\")\n",
    "        # Return appropriate error structure based on input type\n",
    "        if is_single_text:\n",
    "            return zero_vector\n",
    "        else:\n",
    "            return [zero_vector] * len(texts_to_embed) # Return list of zero vectors\n",
    "\n"
   ]
  },
  {
   "cell_type": "code",
   "execution_count": 20,
   "id": "60f07904",
   "metadata": {},
   "outputs": [],
   "source": [
    "def load_data_to_pgvector(df: pd.DataFrame, embeddings: list[list[float]], cluster_assignments: list[int]):\n",
    "    \"\"\"Loads incident data, embeddings, and cluster assignments into pgvector.\"\"\"\n",
    "    conn = None\n",
    "    cur = None \n",
    "\n",
    "    try:\n",
    "        conn = psycopg2.connect(\n",
    "            host=DB_HOST,\n",
    "            database=DB_NAME,\n",
    "            user=DB_USER,\n",
    "            password=DB_PASSWORD,\n",
    "            port=DB_PORT\n",
    "        )\n",
    "        cur = conn.cursor()\n",
    "\n",
    "        # Clear existing data for demonstration (optional)\n",
    "        cur.execute(\"DELETE FROM incidents;\")\n",
    "        print(\"Cleared existing data from 'incidents' table.\")\n",
    "\n",
    "        # Prepare and execute the insert statement\n",
    "        insert_query = \"\"\"\n",
    "        INSERT INTO incidents (id, description, embedding, cluster_id, created_at, updated_at, status, priority, metadata)\n",
    "        VALUES (%s, %s, %s, %s, %s, %s, %s, %s, %s);\n",
    "        \"\"\"\n",
    "\n",
    "        for i, row in df.iterrows():\n",
    "            incident_id = row['id']\n",
    "            description = row['description']\n",
    "            embedding = embeddings[i]\n",
    "            # cluster_id = cluster_assignments[i]\n",
    "            # --- Convert the numpy.int32 from cluster_assignments[i] to a Python int ---\n",
    "            # cluster_assignments is generated directly from kmeans.labels_ which is a numpy array.\n",
    "            cluster_id = int(cluster_assignments[i])\n",
    "            created_at = row['created_at']\n",
    "            updated_at = row['updated_at']\n",
    "            status = row['status']\n",
    "            priority = row['priority']\n",
    "            \n",
    "            # Prepare metadata for JSONB column (example: exclude already mapped fields)\n",
    "            other_metadata = {\n",
    "                k: v for k, v in row.items() \n",
    "                if k not in ['id', 'description', 'created_at', 'updated_at', 'status', 'priority']\n",
    "            }\n",
    "            # metadata_json = json.dumps(other_metadata)\n",
    "            metadata_json = json.dumps(other_metadata, default=lambda x: int(x) if isinstance(x, np.integer) else x)\n",
    "\n",
    "\n",
    "            cur.execute(insert_query, (\n",
    "                incident_id, description, embedding, cluster_id,\n",
    "                created_at, updated_at, status, priority, metadata_json\n",
    "            ))\n",
    "        \n",
    "        conn.commit()\n",
    "        print(f\"Successfully loaded {len(df)} incidents into 'incidents' table.\")\n",
    "\n",
    "    except psycopg2.Error as e:\n",
    "        print(f\"Database error: {e}\")\n",
    "        if conn:\n",
    "            conn.rollback()\n",
    "    except Exception as e:\n",
    "        print(f\"An unexpected error occurred: {e}\")\n",
    "    finally:\n",
    "        if cur:\n",
    "            cur.close()\n",
    "        if conn:\n",
    "            conn.close()"
   ]
  },
  {
   "cell_type": "code",
   "execution_count": 21,
   "id": "b9e11399",
   "metadata": {},
   "outputs": [
    {
     "name": "stdout",
     "output_type": "stream",
     "text": [
      "Starting data processing with psycopg2...\n",
      "Loading incidents from CSV: G:/POC's/Process Mining/Process_Mining/datasets/mock_incidents_10.csv...\n",
      "Loaded 10 incidents from CSV.\n",
      "First 5 rows of loaded data:\n",
      "         id                                        description  \\\n",
      "0  INC-1000  Urgent: Server CPU spike impacts Email Service...   \n",
      "1  INC-1001  Urgent: API endpoint timeout impacts Internal ...   \n",
      "2  INC-1002  Resolved: Database performance degradation aft...   \n",
      "3  INC-1003  Urgent: Storage capacity alert impacts ERP ava...   \n",
      "4  INC-1004  Alert triggered: Network connectivity issue de...   \n",
      "\n",
      "                   created_at                  updated_at    status priority  \n",
      "0  2025-01-04 16:33:22.006729  2025-01-05 22:33:22.006729      Open     High  \n",
      "1  2025-05-05 01:33:22.006729  2025-05-05 08:33:22.006729  Resolved      Low  \n",
      "2  2025-01-30 00:33:22.006729  2025-01-30 09:33:22.006729  Resolved      Low  \n",
      "3  2024-10-14 22:33:22.006729  2024-10-16 07:33:22.006729  Resolved      Low  \n",
      "4  2024-10-25 05:33:22.006729  2024-10-26 15:33:22.006729  Resolved     High  \n"
     ]
    }
   ],
   "source": [
    "print(\"Starting data processing with psycopg2...\")\n",
    "\n",
    "# 1. Fetch Mock Incidents\n",
    "\n",
    "INCIDENTS_CSV_PATH = os.getenv(\"INCIDENTS_CSV_PATH\")\n",
    "print(f\"Loading incidents from CSV: {INCIDENTS_CSV_PATH}...\")\n",
    "\n",
    "try:\n",
    "    # pd.read_csv automatically infers types, but we explicitly parse dates\n",
    "    incidents_df = pd.read_csv(\n",
    "        INCIDENTS_CSV_PATH,\n",
    "        parse_dates=['created_at', 'updated_at'], # Parse these columns as datetime objects\n",
    "        dayfirst=True # Adjust based on your date format (e.g., True for DD/MM/YYYY)\n",
    "    )\n",
    "    print(f\"Loaded {len(incidents_df)} incidents from CSV.\")\n",
    "    print(\"First 5 rows of loaded data:\")\n",
    "    print(incidents_df.head())\n",
    "except FileNotFoundError:\n",
    "    print(f\"Error: CSV file not found at {INCIDENTS_CSV_PATH}. Please check your .env file path.\")\n",
    "    exit(1)\n",
    "except Exception as e:\n",
    "    print(f\"Error loading CSV: {e}\")\n",
    "    exit(1)"
   ]
  },
  {
   "cell_type": "code",
   "execution_count": 22,
   "id": "7871db9d",
   "metadata": {},
   "outputs": [
    {
     "name": "stdout",
     "output_type": "stream",
     "text": [
      "Generating embeddings for incidents in batch...\n",
      "Successfully generated 10 embeddings in batch.\n"
     ]
    }
   ],
   "source": [
    "# 2. Generate Embeddings for all incidents in a single batch using the updated function\n",
    "\n",
    "print(\"Generating embeddings for incidents in batch...\")\n",
    "descriptions_to_embed = incidents_df['description'].tolist()\n",
    "\n",
    "try:\n",
    "    all_embeddings = get_gecko_embedding(descriptions_to_embed) # Call the updated function\n",
    "    print(f\"Successfully generated {len(all_embeddings)} embeddings in batch.\")\n",
    "except Exception as e:\n",
    "    print(f\"Error during batch embedding generation: {e}\")\n",
    "    print(\"Please review your Vertex AI quota or the descriptions data.\")\n",
    "    exit(1)\n"
   ]
  },
  {
   "cell_type": "code",
   "execution_count": 23,
   "id": "98073428",
   "metadata": {},
   "outputs": [
    {
     "name": "stdout",
     "output_type": "stream",
     "text": [
      "Performing K-means clustering with K=5...\n",
      "K-means clustering complete.\n"
     ]
    }
   ],
   "source": [
    "# 3. Perform K-means Clustering\n",
    "\n",
    "print(f\"Performing K-means clustering with K={K_CLUSTERS}...\")\n",
    "try:\n",
    "    kmeans = KMeans(n_clusters=K_CLUSTERS, random_state=42, n_init='auto')\n",
    "    kmeans.fit(all_embeddings)\n",
    "    cluster_assignments = kmeans.labels_\n",
    "    print(\"K-means clustering complete.\")\n",
    "except Exception as e:\n",
    "    print(f\"Error during K-means clustering: {e}\")\n",
    "    cluster_assignments = [0] * len(all_embeddings)\n",
    "\n",
    "incidents_df['cluster_id'] = cluster_assignments"
   ]
  },
  {
   "cell_type": "markdown",
   "id": "2c8de5ae",
   "metadata": {},
   "source": [
    "##### Dimensionality Reduction for Visualization (Highly Recommended)"
   ]
  },
  {
   "cell_type": "code",
   "execution_count": 24,
   "id": "4f868315",
   "metadata": {},
   "outputs": [
    {
     "name": "stdout",
     "output_type": "stream",
     "text": [
      "\n",
      "--- Visualizing Clusters (requires matplotlib and optionally seaborn) ---\n",
      "Applying PCA for 2D visualization...\n"
     ]
    },
    {
     "data": {
      "image/png": "[encoded data removed]",
      "text/plain": [
       "<Figure size 1000x800 with 1 Axes>"
      ]
     },
     "metadata": {},
     "output_type": "display_data"
    },
    {
     "name": "stdout",
     "output_type": "stream",
     "text": [
      "PCA plot displayed.\n"
     ]
    }
   ],
   "source": [
    "import matplotlib.pyplot as plt\n",
    "import seaborn as sns # Optional, for nicer plots\n",
    "from sklearn.decomposition import PCA\n",
    "from sklearn.manifold import TSNE\n",
    "import numpy as np\n",
    "\n",
    "# ... (after incidents_df['cluster_id'] = cluster_assignments)\n",
    "\n",
    "print(\"\\n--- Visualizing Clusters (requires matplotlib and optionally seaborn) ---\")\n",
    "\n",
    "# Convert all_embeddings to a NumPy array for scikit-learn\n",
    "all_embeddings_np = np.array(all_embeddings)\n",
    "\n",
    "# --- Option 1: PCA for 2D visualization ---\n",
    "print(\"Applying PCA for 2D visualization...\")\n",
    "try:\n",
    "    pca = PCA(n_components=2, random_state=42)\n",
    "    embeddings_2d_pca = pca.fit_transform(all_embeddings_np)\n",
    "\n",
    "    plt.figure(figsize=(10, 8))\n",
    "    sns.scatterplot(\n",
    "        x=embeddings_2d_pca[:, 0],\n",
    "        y=embeddings_2d_pca[:, 1],\n",
    "        hue=incidents_df['cluster_id'],\n",
    "        palette='viridis', # Or 'deep', 'Paired', etc.\n",
    "        legend='full',\n",
    "        s=50, # Marker size\n",
    "        alpha=0.7 # Transparency\n",
    "    )\n",
    "    plt.title(f'K-Means Clusters (PCA 2D, K={K_CLUSTERS})')\n",
    "    plt.xlabel('Principal Component 1')\n",
    "    plt.ylabel('Principal Component 2')\n",
    "    plt.grid(True, linestyle='--', alpha=0.6)\n",
    "    plt.show()\n",
    "    print(\"PCA plot displayed.\")\n",
    "\n",
    "except Exception as e:\n",
    "    print(f\"Error during PCA visualization: {e}\")"
   ]
  },
  {
   "cell_type": "code",
   "execution_count": 25,
   "id": "7e8e86cf",
   "metadata": {},
   "outputs": [
    {
     "name": "stdout",
     "output_type": "stream",
     "text": [
      "Loading data into pgvector...\n",
      "Cleared existing data from 'incidents' table.\n",
      "Successfully loaded 10 incidents into 'incidents' table.\n",
      "Data loading process finished.\n"
     ]
    }
   ],
   "source": [
    "# 4. Load Data into pgvector\n",
    "print(\"Loading data into pgvector...\")\n",
    "load_data_to_pgvector(incidents_df, all_embeddings, cluster_assignments)\n",
    "print(\"Data loading process finished.\")"
   ]
  },
  {
   "cell_type": "code",
   "execution_count": null,
   "id": "c93c3b95",
   "metadata": {},
   "outputs": [],
   "source": []
  }
 ],
 "metadata": {
  "kernelspec": {
   "display_name": "venv_process_mining",
   "language": "python",
   "name": "python3"
  },
  "language_info": {
   "codemirror_mode": {
    "name": "ipython",
    "version": 3
   },
   "file_extension": ".py",
   "mimetype": "text/x-python",
   "name": "python",
   "nbconvert_exporter": "python",
   "pygments_lexer": "ipython3",
   "version": "3.10.0"
  }
 },
 "nbformat": 4,
 "nbformat_minor": 5
}
