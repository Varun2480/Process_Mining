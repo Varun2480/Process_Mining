{
 "cells": [],
 "metadata": {
  "kernelspec": {
   "display_name": "venv_process_mining",
   "language": "python",
   "name": "python3"
  },
  "language_info": {
   "name": "python",
   "version": "3.10.0"
  }
 },
 "nbformat": 4,
 "nbformat_minor": 5
}
